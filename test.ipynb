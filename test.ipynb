{
 "cells": [
  {
   "cell_type": "code",
   "execution_count": 6,
   "metadata": {},
   "outputs": [],
   "source": [
    "from load_movielens import *"
   ]
  },
  {
   "cell_type": "code",
   "execution_count": 7,
   "metadata": {},
   "outputs": [
    {
     "data": {
      "text/html": [
       "<div>\n",
       "<style scoped>\n",
       "    .dataframe tbody tr th:only-of-type {\n",
       "        vertical-align: middle;\n",
       "    }\n",
       "\n",
       "    .dataframe tbody tr th {\n",
       "        vertical-align: top;\n",
       "    }\n",
       "\n",
       "    .dataframe thead th {\n",
       "        text-align: right;\n",
       "    }\n",
       "</style>\n",
       "<table border=\"1\" class=\"dataframe\">\n",
       "  <thead>\n",
       "    <tr style=\"text-align: right;\">\n",
       "      <th></th>\n",
       "      <th>UserID</th>\n",
       "      <th>MovieID</th>\n",
       "      <th>Rating</th>\n",
       "      <th>Timestamp</th>\n",
       "    </tr>\n",
       "  </thead>\n",
       "  <tbody>\n",
       "    <tr>\n",
       "      <th>53</th>\n",
       "      <td>1</td>\n",
       "      <td>1259</td>\n",
       "      <td>5</td>\n",
       "      <td>978298709</td>\n",
       "    </tr>\n",
       "    <tr>\n",
       "      <th>81</th>\n",
       "      <td>1</td>\n",
       "      <td>2046</td>\n",
       "      <td>5</td>\n",
       "      <td>978299220</td>\n",
       "    </tr>\n",
       "    <tr>\n",
       "      <th>86</th>\n",
       "      <td>1</td>\n",
       "      <td>2931</td>\n",
       "      <td>5</td>\n",
       "      <td>978298652</td>\n",
       "    </tr>\n",
       "    <tr>\n",
       "      <th>88</th>\n",
       "      <td>1</td>\n",
       "      <td>1201</td>\n",
       "      <td>5</td>\n",
       "      <td>978298261</td>\n",
       "    </tr>\n",
       "    <tr>\n",
       "      <th>93</th>\n",
       "      <td>1</td>\n",
       "      <td>106</td>\n",
       "      <td>5</td>\n",
       "      <td>978298625</td>\n",
       "    </tr>\n",
       "    <tr>\n",
       "      <th>97</th>\n",
       "      <td>1</td>\n",
       "      <td>3238</td>\n",
       "      <td>5</td>\n",
       "      <td>978298814</td>\n",
       "    </tr>\n",
       "    <tr>\n",
       "      <th>102</th>\n",
       "      <td>1</td>\n",
       "      <td>1765</td>\n",
       "      <td>5</td>\n",
       "      <td>978298458</td>\n",
       "    </tr>\n",
       "    <tr>\n",
       "      <th>106</th>\n",
       "      <td>1</td>\n",
       "      <td>1135</td>\n",
       "      <td>5</td>\n",
       "      <td>978298391</td>\n",
       "    </tr>\n",
       "    <tr>\n",
       "      <th>108</th>\n",
       "      <td>1</td>\n",
       "      <td>501</td>\n",
       "      <td>5</td>\n",
       "      <td>978298542</td>\n",
       "    </tr>\n",
       "    <tr>\n",
       "      <th>115</th>\n",
       "      <td>1</td>\n",
       "      <td>466</td>\n",
       "      <td>5</td>\n",
       "      <td>978299809</td>\n",
       "    </tr>\n",
       "  </tbody>\n",
       "</table>\n",
       "</div>"
      ],
      "text/plain": [
       "     UserID  MovieID  Rating  Timestamp\n",
       "53        1     1259       5  978298709\n",
       "81        1     2046       5  978299220\n",
       "86        1     2931       5  978298652\n",
       "88        1     1201       5  978298261\n",
       "93        1      106       5  978298625\n",
       "97        1     3238       5  978298814\n",
       "102       1     1765       5  978298458\n",
       "106       1     1135       5  978298391\n",
       "108       1      501       5  978298542\n",
       "115       1      466       5  978299809"
      ]
     },
     "execution_count": 7,
     "metadata": {},
     "output_type": "execute_result"
    }
   ],
   "source": [
    "ratings_df[ratings_df[\"UserID\"] == 1].sort_values(by=\"Rating\", ascending=False).head(10)"
   ]
  },
  {
   "cell_type": "code",
   "execution_count": 8,
   "metadata": {},
   "outputs": [
    {
     "data": {
      "text/plain": [
       "(129,\n",
       " tensor([1259, 2853, 1414,  626, 2013,  627, 2078, 2426, 1031, 2708, 3235, 1120,\n",
       "         1623, 1550, 1123, 3341, 2674, 2816, 1127, 2889,  420, 1945, 2891, 2892,\n",
       "         2821, 1161, 1478,  283, 2046, 2856,  841,  358, 1167, 2931, 1420, 1201,\n",
       "         1099, 3031, 3032, 3033,  106, 2086, 2296, 1656, 3238,  575, 1553, 3412,\n",
       "         2645, 1765,  920, 1693, 2651, 1135, 1848,  501,  428, 2120,  258, 1306,\n",
       "         1012, 3457,  466, 1337, 1886, 1173, 1271, 1104, 1631, 1273, 2160, 3107,\n",
       "         2234,  576, 1106, 1428,  702, 1108,  579, 2166,   92, 2512, 2374, 1737,\n",
       "         2203, 3493, 1773, 1466, 3566, 1774, 1775,  228, 1047, 1777,  157,   20,\n",
       "          159, 2128, 1018,  370, 2307,  339,  443, 1024,  859,  445, 1406, 3186,\n",
       "         1286, 3219, 2879,  737,  484, 2523, 1822, 1782, 1618, 2735, 1826,  309,\n",
       "         1117, 1788, 3436, 1152,  346, 1153, 1154, 3647, 1155]),\n",
       " tensor([5., 4., 4., 3., 4., 4., 5., 3., 3., 3., 5., 4., 3., 3., 2., 5., 3., 4.,\n",
       "         3., 4., 2., 3., 2., 3., 4., 3., 5., 3., 5., 4., 2., 4., 5., 5., 4., 5.,\n",
       "         4., 4., 2., 3., 5., 3., 3., 4., 5., 4., 3., 3., 3., 5., 4., 4., 4., 5.,\n",
       "         4., 5., 3., 3., 4., 3., 3., 2., 5., 4., 5., 3., 5., 5., 3., 3., 4., 4.,\n",
       "         2., 5., 5., 3., 4., 4., 5., 3., 2., 3., 4., 3., 4., 3., 4., 3., 3., 5.,\n",
       "         4., 3., 5., 5., 4., 1., 3., 3., 2., 5., 5., 4., 4., 4., 5., 3., 4., 4.,\n",
       "         3., 4., 4., 3., 3., 3., 5., 5., 5., 4., 3., 5., 4., 2., 3., 3., 5., 2.,\n",
       "         5., 1., 5.]))"
      ]
     },
     "execution_count": 8,
     "metadata": {},
     "output_type": "execute_result"
    }
   ],
   "source": [
    "idx = 1\n",
    "len(user_datasets[idx]), user_datasets[idx].x, user_datasets[idx].y"
   ]
  },
  {
   "cell_type": "code",
   "execution_count": 9,
   "metadata": {},
   "outputs": [
    {
     "name": "stdout",
     "output_type": "stream",
     "text": [
      "21\n"
     ]
    },
    {
     "data": {
      "text/plain": [
       "<torch.utils.data.dataloader.DataLoader at 0x125878890>"
      ]
     },
     "execution_count": 9,
     "metadata": {},
     "output_type": "execute_result"
    }
   ],
   "source": [
    "create_user_dataloader(user_datasets[idx], 0.8, 0.1, 5)"
   ]
  },
  {
   "cell_type": "code",
   "execution_count": 10,
   "metadata": {},
   "outputs": [],
   "source": [
    "nb_rating_user = len(user_datasets[idx])\n",
    "nb_rating_train = int(nb_rating_user * 0.8)\n",
    "nb_rating_val = int(nb_rating_user * 0.1)\n",
    "train_dataset = Subset(user_datasets[idx], range(0, nb_rating_train))\n",
    "trainloader = DataLoader(train_dataset, batch_size=5, shuffle=True)"
   ]
  },
  {
   "cell_type": "code",
   "execution_count": 15,
   "metadata": {},
   "outputs": [
    {
     "data": {
      "text/plain": [
       "[tensor([ 258, 3457, 3238,  575, 2816]), tensor([4., 2., 5., 4., 4.])]"
      ]
     },
     "execution_count": 15,
     "metadata": {},
     "output_type": "execute_result"
    }
   ],
   "source": [
    "next(iter(trainloader))"
   ]
  },
  {
   "cell_type": "code",
   "execution_count": null,
   "metadata": {},
   "outputs": [],
   "source": []
  }
 ],
 "metadata": {
  "kernelspec": {
   "display_name": "Python 3",
   "language": "python",
   "name": "python3"
  },
  "language_info": {
   "codemirror_mode": {
    "name": "ipython",
    "version": 3
   },
   "file_extension": ".py",
   "mimetype": "text/x-python",
   "name": "python",
   "nbconvert_exporter": "python",
   "pygments_lexer": "ipython3",
   "version": "3.11.6"
  }
 },
 "nbformat": 4,
 "nbformat_minor": 2
}
